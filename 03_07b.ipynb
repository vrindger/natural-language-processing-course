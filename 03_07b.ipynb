{
 "cells": [
  {
   "cell_type": "markdown",
   "metadata": {
    "tags": []
   },
   "source": [
    "# Text Analysis on Great Expectations Novel"
   ]
  },
  {
   "cell_type": "markdown",
   "metadata": {},
   "source": [
    "### Imports- **Run First**"
   ]
  },
  {
   "cell_type": "code",
   "execution_count": null,
   "id": "31a0107e",
   "metadata": {},
   "outputs": [],
   "source": [
    "# Bring in text file with our novel\n",
    "textfile = open('great_expectations.txt', 'r', encoding=\"utf8\")\n",
    "great_expect = textfile.read()\n",
    "\n",
    "print(great_expect)\n"
   ]
  },
  {
   "cell_type": "code",
   "execution_count": null,
   "id": "178ba07c",
   "metadata": {},
   "outputs": [],
   "source": [
    "# Import libraries\n",
    "import nltk\n",
    "from nltk import word_tokenize\n",
    "from nltk.corpus import stopwords\n",
    "from nltk.sentiment.vader import SentimentIntensityAnalyzer\n",
    "from nltk.stem import WordNetLemmatizer\n",
    "\n",
    "from gensim.corpora import Dictionary\n",
    "from gensim.models import ldamodel\n",
    "from gensim.models.coherencemodel import CoherenceModel\n",
    "from wordcloud import WordCloud\n",
    "\n",
    "import pandas as pd\n",
    "from PIL import Image\n",
    "import numpy as np\n",
    "import random\n",
    "import re\n",
    "import matplotlib.pyplot as plt\n",
    "%matplotlib inline\n"
   ]
  },
  {
   "cell_type": "code",
   "execution_count": null,
   "id": "563be20d",
   "metadata": {},
   "outputs": [],
   "source": [
    "# Lowercase words for word cloud\n",
    "word_cloud_text = great_expect.lower()\n",
    "# Remove numbers and alphanumeric words we don't need for word cloud\n",
    "word_cloud_text = re.sub(\"[^a-zA-Z0-9]\", \" \", word_cloud_text)\n"
   ]
  },
  {
   "cell_type": "code",
   "execution_count": null,
   "id": "4d53fd40",
   "metadata": {},
   "outputs": [],
   "source": [
    "# Tokenize the data to split it into words\n",
    "tokens = word_tokenize(word_cloud_text)\n",
    "# Remove stopwords\n",
    "tokens = (word for word in tokens if word not in stopwords.words('english'))\n",
    "# Remove short words less than 3 letters in length\n",
    "tokens = (word for word in tokens if len(word) >= 3)\n",
    "# Add word cloud stopwords\n",
    "stopwords_wc = set(stopwords.words(\"english\"))\n"
   ]
  },
  {
   "cell_type": "code",
   "execution_count": null,
   "id": "90c30b21",
   "metadata": {},
   "outputs": [],
   "source": [
    "# Define gray_color_func function and mask variable for advanced word cloud\n",
    "mask = np.array(Image.open(\"man_in_top_hat.jpeg\"))\n",
    "\n",
    "\n",
    "def gray_color_func(word, font_size, position, orientation, random_state=None, **kwargs):\n",
    "    return \"hsl(0, 0%%, %d%%)\" % random.randint(60, 100)\n"
   ]
  },
  {
   "cell_type": "code",
   "execution_count": null,
   "id": "8e0ea775",
   "metadata": {},
   "outputs": [],
   "source": [
    "# Create advanced Word Cloud with our text data\n",
    "wordcloud = WordCloud(background_color=\"purple\", max_words=100, mask=mask,\n",
    "                      color_func=gray_color_func, stopwords=stopwords_wc, random_state=1).generate(word_cloud_text)\n",
    "plt.figure(figsize=(8, 6))\n",
    "plt.imshow(wordcloud)\n",
    "plt.axis(\"off\")\n",
    "plt.show()\n"
   ]
  },
  {
   "cell_type": "markdown",
   "metadata": {},
   "source": [
    "### How to analyze word frequency"
   ]
  },
  {
   "cell_type": "code",
   "execution_count": null,
   "metadata": {},
   "outputs": [],
   "source": [
    "#Create word frequency distribution\n"
   ]
  },
  {
   "cell_type": "code",
   "execution_count": null,
   "metadata": {},
   "outputs": [],
   "source": [
    "#View the 50 most common words in the text\n"
   ]
  },
  {
   "cell_type": "code",
   "execution_count": null,
   "metadata": {},
   "outputs": [],
   "source": [
    "#Visualization of top 50 most common words in text\n"
   ]
  },
  {
   "cell_type": "code",
   "execution_count": null,
   "id": "c7a6e10b",
   "metadata": {},
   "outputs": [],
   "source": [
    "# Visualization of top 50 most common words in text cumulatively\n"
   ]
  }
 ],
 "metadata": {
  "kernelspec": {
   "display_name": "Python 3",
   "language": "python",
   "name": "python3"
  },
  "language_info": {
   "codemirror_mode": {
    "name": "ipython",
    "version": 3
   },
   "file_extension": ".py",
   "mimetype": "text/x-python",
   "name": "python",
   "nbconvert_exporter": "python",
   "pygments_lexer": "ipython3",
   "version": "3.10.4"
  }
 },
 "nbformat": 4,
 "nbformat_minor": 5
}
